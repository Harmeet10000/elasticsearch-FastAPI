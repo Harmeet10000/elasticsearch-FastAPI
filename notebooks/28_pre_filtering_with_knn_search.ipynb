{
 "cells": [
  {
   "cell_type": "markdown",
   "id": "f5e1cdf0",
   "metadata": {},
   "source": [
    "## Documentation\n",
    "\n",
    "To read more about how to apply pre-filtering with KNN search, visit the [docs](https://www.elastic.co/docs/reference/query-languages/query-dsl/query-dsl-knn-query#knn-query-filtering).\n",
    "\n",
    "![pre_filtering_with_knn_search](../images/pre_filtering_with_knn_search.png)"
   ]
  },
  {
   "cell_type": "markdown",
   "id": "0e664ba3",
   "metadata": {},
   "source": [
    "## Connect to ElasticSearch"
   ]
  },
  {
   "cell_type": "code",
   "execution_count": 2,
   "id": "ce1f96e0",
   "metadata": {},
   "outputs": [
    {
     "name": "stdout",
     "output_type": "stream",
     "text": [
      "Connected to Elasticsearch!\n",
      "{'cluster_name': 'docker-cluster',\n",
      " 'cluster_uuid': 'DlYG5m9gR3upn7qgaYyAJA',\n",
      " 'name': 'df0334cb3063',\n",
      " 'tagline': 'You Know, for Search',\n",
      " 'version': {'build_date': '2024-08-05T10:05:34.233336849Z',\n",
      "             'build_flavor': 'default',\n",
      "             'build_hash': '1a77947f34deddb41af25e6f0ddb8e830159c179',\n",
      "             'build_snapshot': False,\n",
      "             'build_type': 'docker',\n",
      "             'lucene_version': '9.11.1',\n",
      "             'minimum_index_compatibility_version': '7.0.0',\n",
      "             'minimum_wire_compatibility_version': '7.17.0',\n",
      "             'number': '8.15.0'}}\n"
     ]
    }
   ],
   "source": [
    "from pprint import pprint\n",
    "from elasticsearch import Elasticsearch\n",
    "\n",
    "es = Elasticsearch(\"http://localhost:9200\")\n",
    "client_info = es.info()\n",
    "print(\"Connected to Elasticsearch!\")\n",
    "pprint(client_info.body)"
   ]
  },
  {
   "cell_type": "markdown",
   "id": "45f4b15f",
   "metadata": {},
   "source": [
    "## Preparing the index"
   ]
  },
  {
   "cell_type": "markdown",
   "id": "1e4276a6",
   "metadata": {},
   "source": [
    "We are adding a new field with type `dense_vector` to store the embeddings."
   ]
  },
  {
   "cell_type": "code",
   "execution_count": 9,
   "id": "8b9e8732",
   "metadata": {},
   "outputs": [
    {
     "data": {
      "text/plain": [
       "ObjectApiResponse({'acknowledged': True, 'shards_acknowledged': True, 'index': 'apod'})"
      ]
     },
     "execution_count": 9,
     "metadata": {},
     "output_type": "execute_result"
    }
   ],
   "source": [
    "es.indices.delete(index=\"apod\", ignore_unavailable=True)\n",
    "es.indices.create(\n",
    "    index=\"apod\",\n",
    "    mappings={\n",
    "        \"properties\": {\n",
    "            \"embedding\": {\n",
    "                \"type\": \"dense_vector\",\n",
    "            }\n",
    "        }\n",
    "    },\n",
    ")"
   ]
  },
  {
   "cell_type": "markdown",
   "id": "6f81cc0d",
   "metadata": {},
   "source": [
    "## Embedding model"
   ]
  },
  {
   "cell_type": "markdown",
   "id": "e1e37171",
   "metadata": {},
   "source": [
    "![all-MiniLM-L6-v2_model](../images/all-MiniLM-L6-v2_model.png)"
   ]
  },
  {
   "cell_type": "markdown",
   "id": "bc58a591",
   "metadata": {},
   "source": [
    "I chose the `all-MiniLM-L6-v2` model for its speed, compact size, and versatility as a general-purpose model. It features an embedding dimension of `384` and truncates text that exceeds `256` words. This model is very popular in the community with almost `50M` downloads in one month.\n",
    "\n",
    "To download and utilize this model, Hugging Face offers a Python package called `sentence-transformers`. This framework simplifies the process of computing dense vector representations."
   ]
  },
  {
   "cell_type": "code",
   "execution_count": 10,
   "id": "cb72a6a7",
   "metadata": {},
   "outputs": [
    {
     "name": "stderr",
     "output_type": "stream",
     "text": [
      "/home/imad-saddik/anaconda3/envs/elastic_search/lib/python3.11/site-packages/sentence_transformers/cross_encoder/CrossEncoder.py:13: TqdmExperimentalWarning: Using `tqdm.autonotebook.tqdm` in notebook mode. Use `tqdm.tqdm` instead to force console mode (e.g. in jupyter console)\n",
      "  from tqdm.autonotebook import tqdm, trange\n"
     ]
    },
    {
     "data": {
      "application/vnd.jupyter.widget-view+json": {
       "model_id": "04827bf5959043f990e39aa589e70a5c",
       "version_major": 2,
       "version_minor": 0
      },
      "text/plain": [
       "README.md: 0.00B [00:00, ?B/s]"
      ]
     },
     "metadata": {},
     "output_type": "display_data"
    },
    {
     "data": {
      "text/plain": [
       "SentenceTransformer(\n",
       "  (0): Transformer({'max_seq_length': 256, 'do_lower_case': False}) with Transformer model: BertModel \n",
       "  (1): Pooling({'word_embedding_dimension': 384, 'pooling_mode_cls_token': False, 'pooling_mode_mean_tokens': True, 'pooling_mode_max_tokens': False, 'pooling_mode_mean_sqrt_len_tokens': False, 'pooling_mode_weightedmean_tokens': False, 'pooling_mode_lasttoken': False, 'include_prompt': True})\n",
       "  (2): Normalize()\n",
       ")"
      ]
     },
     "execution_count": 10,
     "metadata": {},
     "output_type": "execute_result"
    }
   ],
   "source": [
    "from sentence_transformers import SentenceTransformer\n",
    "\n",
    "model = SentenceTransformer(\"all-MiniLM-L6-v2\")\n",
    "model"
   ]
  },
  {
   "cell_type": "code",
   "execution_count": 11,
   "id": "b0f988c4",
   "metadata": {},
   "outputs": [
    {
     "data": {
      "text/plain": [
       "device(type='cuda')"
      ]
     },
     "execution_count": 11,
     "metadata": {},
     "output_type": "execute_result"
    }
   ],
   "source": [
    "import torch\n",
    "\n",
    "device = torch.device(\"cuda\" if torch.cuda.is_available() else \"cpu\")\n",
    "device"
   ]
  },
  {
   "cell_type": "code",
   "execution_count": 12,
   "id": "331b669e",
   "metadata": {},
   "outputs": [
    {
     "data": {
      "text/plain": [
       "SentenceTransformer(\n",
       "  (0): Transformer({'max_seq_length': 256, 'do_lower_case': False}) with Transformer model: BertModel \n",
       "  (1): Pooling({'word_embedding_dimension': 384, 'pooling_mode_cls_token': False, 'pooling_mode_mean_tokens': True, 'pooling_mode_max_tokens': False, 'pooling_mode_mean_sqrt_len_tokens': False, 'pooling_mode_weightedmean_tokens': False, 'pooling_mode_lasttoken': False, 'include_prompt': True})\n",
       "  (2): Normalize()\n",
       ")"
      ]
     },
     "execution_count": 12,
     "metadata": {},
     "output_type": "execute_result"
    }
   ],
   "source": [
    "model = model.to(device)\n",
    "model"
   ]
  },
  {
   "cell_type": "markdown",
   "id": "d6e09648",
   "metadata": {},
   "source": [
    "## Index documents"
   ]
  },
  {
   "cell_type": "markdown",
   "id": "c4479a17",
   "metadata": {},
   "source": [
    "Let's use the `APOD` dataset in this notebook."
   ]
  },
  {
   "cell_type": "code",
   "execution_count": 13,
   "id": "71049613",
   "metadata": {},
   "outputs": [],
   "source": [
    "import json\n",
    "\n",
    "with open(\"../data/apod.json\") as f:\n",
    "    documents = json.load(f)"
   ]
  },
  {
   "cell_type": "markdown",
   "id": "00477e0e",
   "metadata": {},
   "source": [
    "Let's use the embedding model to embed the `explanation` field of the `APOD` dataset."
   ]
  },
  {
   "cell_type": "markdown",
   "id": "1d96898d",
   "metadata": {},
   "source": [
    "Use the `bulk` API to index the documents in the `apod` index."
   ]
  },
  {
   "cell_type": "code",
   "execution_count": null,
   "id": "ec400975",
   "metadata": {},
   "outputs": [
    {
     "name": "stderr",
     "output_type": "stream",
     "text": [
      "Indexing documents: 100%|██████████| 3333/3333 [00:09<00:00, 364.03it/s]\n"
     ]
    }
   ],
   "source": [
    "from tqdm import tqdm\n",
    "\n",
    "\n",
    "def get_embedding(text):\n",
    "    return model.encode(text)\n",
    "\n",
    "\n",
    "operations = []\n",
    "for document in tqdm(documents, total=len(documents), desc=\"Indexing documents\"):\n",
    "    year = document[\"date\"].split(\"-\")[0]\n",
    "    document[\"year\"] = int(year)\n",
    "\n",
    "    operations.append({\"index\": {\"_index\": \"apod\"}})\n",
    "    operations.append(\n",
    "        {\n",
    "            **document,\n",
    "            \"embedding\": get_embedding(document[\"explanation\"]),\n",
    "        }\n",
    "    )\n",
    "\n",
    "response = es.bulk(operations=operations)"
   ]
  },
  {
   "cell_type": "markdown",
   "id": "e4d8e692",
   "metadata": {},
   "source": [
    "If the indexing is successful, you should see `response[\"errors\"]` as `False`."
   ]
  },
  {
   "cell_type": "code",
   "execution_count": 22,
   "id": "69b1affd",
   "metadata": {},
   "outputs": [
    {
     "data": {
      "text/plain": [
       "False"
      ]
     },
     "execution_count": 22,
     "metadata": {},
     "output_type": "execute_result"
    }
   ],
   "source": [
    "response[\"errors\"]"
   ]
  },
  {
   "cell_type": "markdown",
   "id": "193d0e09",
   "metadata": {},
   "source": [
    "## Pre-filtering with kNN Search"
   ]
  },
  {
   "cell_type": "markdown",
   "id": "54651a36",
   "metadata": {},
   "source": [
    "### Regular kNN search"
   ]
  },
  {
   "cell_type": "markdown",
   "id": "dc1ba37e",
   "metadata": {},
   "source": [
    "Regular kNN search means that we take the query, embed it, compute the similarity score between the query and every document in the index, and return the top k most similar documents."
   ]
  },
  {
   "cell_type": "code",
   "execution_count": 39,
   "id": "9746c707",
   "metadata": {},
   "outputs": [
    {
     "name": "stdout",
     "output_type": "stream",
     "text": [
      "Found 10 documents\n"
     ]
    }
   ],
   "source": [
    "query = \"What is a black hole?\"\n",
    "embedded_query = get_embedding(query)\n",
    "\n",
    "result = es.search(\n",
    "    index=\"apod\",\n",
    "    knn={\n",
    "        \"field\": \"embedding\",\n",
    "        \"query_vector\": embedded_query,\n",
    "        \"num_candidates\": 20,\n",
    "        \"k\": 10,\n",
    "    },\n",
    ")\n",
    "\n",
    "number_of_documents = result.body[\"hits\"][\"total\"][\"value\"]\n",
    "print(f\"Found {number_of_documents} documents\")"
   ]
  },
  {
   "cell_type": "markdown",
   "id": "dc1bea4d",
   "metadata": {},
   "source": [
    "Here we got 10 documents that are most similar to the query \"What is a black hole?\". Let's print the first 3 documents."
   ]
  },
  {
   "cell_type": "code",
   "execution_count": 40,
   "id": "74186f65",
   "metadata": {},
   "outputs": [
    {
     "name": "stdout",
     "output_type": "stream",
     "text": [
      "Score: 0.80657506\n",
      "Title: Black Hole Accreting with Jet\n",
      "Explanation: Explanation: What happens when a black hole devours a star? Many details remain unknown, but observations are providing new clues. In 2014, a powerful explosion was recorded by the ground-based robotic telescopes of the All Sky Automated Survey for SuperNovae (Project ASAS-SN), with followed-up observations by instruments including NASA's Earth-orbiting Swift satellite. Computer modeling of these emissions fit a star being ripped apart by a distant supermassive black hole. The results of such a collision are portrayed in the featured artistic illustration. The black hole itself is a depicted as a tiny black dot in the center. As matter falls toward the hole, it collides with other matter and heats up. Surrounding the black hole is an accretion disk of hot matter that used to be the star, with a jet emanating from the black hole's spin axis.\n",
      "--------------------------------------------------------------------------------\n",
      "Score: 0.80611444\n",
      "Title: Black Hole Accreting with Jet\n",
      "Explanation: Explanation: What happens when a black hole devours a star? Many details remain unknown, but recent observations are providing new clues. In 2014, a powerful explosion was recorded by the ground-based robotic telescopes of the All Sky Automated Survey for SuperNovae (ASAS-SN) project, and followed up by instruments including NASA's Earth-orbiting Swift satellite. Computer modeling of these emissions fit a star being ripped apart by a distant supermassive black hole. The results of such a collision are portrayed in the featured artistic illustration. The black hole itself is a depicted as a tiny black dot in the center. As matter falls toward the hole, it collides with other matter and heats up. Surrounding the black hole is an accretion disk of hot matter that used to be the star, with a jet emanating from the black hole's spin axis.\n",
      "--------------------------------------------------------------------------------\n",
      "Score: 0.77729917\n",
      "Title: First Horizon Scale Image of a Black Hole\n",
      "Explanation: Explanation: What does a black hole look like? To find out, radio telescopes from around the Earth coordinated observations of black holes with the largest known event horizons on the sky. Alone, black holes are just black, but these monster attractors are known to be surrounded by glowing gas. The first image was released yesterday and resolved the area around the black hole at the center of galaxy M87 on a scale below that expected for its event horizon. Pictured, the dark central region is not the event horizon, but rather the black hole's shadow -- the central region of emitting gas darkened by the central black hole's gravity. The size and shape of the shadow is determined by bright gas near the event horizon, by strong gravitational lensing deflections, and by the black hole's spin. In resolving this black hole's shadow, the Event Horizon Telescope (EHT) bolstered evidence that Einstein's gravity works even in extreme regions, and gave clear evidence that M87 has a central spinning black hole of about 6 billion solar masses. The EHT is not done -- future observations will be geared toward even higher resolution, better tracking of variability, and exploring the immediate vicinity of the black hole in the center of our Milky Way Galaxy.\n",
      "--------------------------------------------------------------------------------\n"
     ]
    }
   ],
   "source": [
    "for hit in result.body[\"hits\"][\"hits\"][:3]:\n",
    "    print(f\"Score: {hit['_score']}\")\n",
    "    print(f\"Title: {hit['_source']['title']}\")\n",
    "    print(f\"Explanation: {hit['_source']['explanation']}\")\n",
    "    print(\"-\" * 80)"
   ]
  },
  {
   "cell_type": "code",
   "execution_count": 41,
   "id": "e6c3eccf",
   "metadata": {},
   "outputs": [
    {
     "name": "stdout",
     "output_type": "stream",
     "text": [
      "Explanation: 2024\n",
      "Explanation: 2017\n",
      "Explanation: 2019\n",
      "Explanation: 2022\n",
      "Explanation: 2018\n",
      "Explanation: 2020\n",
      "Explanation: 2024\n",
      "Explanation: 2024\n",
      "Explanation: 2022\n",
      "Explanation: 2020\n"
     ]
    }
   ],
   "source": [
    "for hit in result.body[\"hits\"][\"hits\"]:\n",
    "    print(f\"Explanation: {hit['_source']['year']}\")"
   ]
  },
  {
   "cell_type": "markdown",
   "id": "61329303",
   "metadata": {},
   "source": [
    "Let's look at the years of the documents returned by the regular kNN search. We can see that the years are different, let's see how we can use pre-filtering to filter the documents based on the year."
   ]
  },
  {
   "cell_type": "markdown",
   "id": "5a95e7fd",
   "metadata": {},
   "source": [
    "### 2. Pre-filtering"
   ]
  },
  {
   "cell_type": "markdown",
   "id": "58259730",
   "metadata": {},
   "source": [
    "Let's run the same query but this time we will use pre-filtering to filter the documents based on the year. Let's say we want to filter the documents to only include those from the year 2024.\n",
    "\n",
    "We do this by adding a `filter` clause to the kNN query. The `filter` clause is a regular query that filters the documents before the kNN search is performed."
   ]
  },
  {
   "cell_type": "code",
   "execution_count": 42,
   "id": "0469d744",
   "metadata": {},
   "outputs": [
    {
     "name": "stdout",
     "output_type": "stream",
     "text": [
      "Found 10 documents\n"
     ]
    }
   ],
   "source": [
    "query = \"What is a black hole?\"\n",
    "embedded_query = get_embedding(query)\n",
    "\n",
    "result = es.search(\n",
    "    index=\"apod\",\n",
    "    knn={\n",
    "        \"field\": \"embedding\",\n",
    "        \"query_vector\": embedded_query,\n",
    "        \"num_candidates\": 20,\n",
    "        \"k\": 10,\n",
    "        \"filter\": {\"term\": {\"year\": 2024}},\n",
    "    },\n",
    ")\n",
    "\n",
    "number_of_documents = result.body[\"hits\"][\"total\"][\"value\"]\n",
    "print(f\"Found {number_of_documents} documents\")"
   ]
  },
  {
   "cell_type": "markdown",
   "id": "a68ed6b0",
   "metadata": {},
   "source": [
    "As you can see, the documents returned are only from the year 2024."
   ]
  },
  {
   "cell_type": "code",
   "execution_count": 43,
   "id": "078aafdc",
   "metadata": {},
   "outputs": [
    {
     "name": "stdout",
     "output_type": "stream",
     "text": [
      "Explanation: 2024\n",
      "Explanation: 2024\n",
      "Explanation: 2024\n",
      "Explanation: 2024\n",
      "Explanation: 2024\n",
      "Explanation: 2024\n",
      "Explanation: 2024\n",
      "Explanation: 2024\n",
      "Explanation: 2024\n",
      "Explanation: 2024\n"
     ]
    }
   ],
   "source": [
    "for hit in result.body[\"hits\"][\"hits\"]:\n",
    "    print(f\"Explanation: {hit['_source']['year']}\")"
   ]
  },
  {
   "cell_type": "markdown",
   "id": "5f94e682",
   "metadata": {},
   "source": [
    "Let's look at the first 3 documents returned by the kNN search to confirm that they are similar to the query."
   ]
  },
  {
   "cell_type": "code",
   "execution_count": 45,
   "id": "898efe4e",
   "metadata": {},
   "outputs": [
    {
     "name": "stdout",
     "output_type": "stream",
     "text": [
      "Score: 0.80657506\n",
      "Title: Black Hole Accreting with Jet\n",
      "Explanation: Explanation: What happens when a black hole devours a star? Many details remain unknown, but observations are providing new clues. In 2014, a powerful explosion was recorded by the ground-based robotic telescopes of the All Sky Automated Survey for SuperNovae (Project ASAS-SN), with followed-up observations by instruments including NASA's Earth-orbiting Swift satellite. Computer modeling of these emissions fit a star being ripped apart by a distant supermassive black hole. The results of such a collision are portrayed in the featured artistic illustration. The black hole itself is a depicted as a tiny black dot in the center. As matter falls toward the hole, it collides with other matter and heats up. Surrounding the black hole is an accretion disk of hot matter that used to be the star, with a jet emanating from the black hole's spin axis.\n",
      "--------------------------------------------------------------------------------\n",
      "Score: 0.75311136\n",
      "Title: A Black Hole Disrupts a Passing Star\n",
      "Explanation: Explanation: What happens to a star that goes near a black hole? If the star directly impacts a massive black hole, then the star falls in completely -- and everything vanishes. More likely, though, the star goes close enough to have the black hole's gravity pull away its outer layers, or disrupt, the star. Then, most of the star's gas does not fall into the black hole. These stellar tidal disruption events can be as bright as a supernova, and an increasing amount of them are being discovered by automated sky surveys. In the featured artist's illustration, a star has just passed a massive black hole and sheds gas that continues to orbit. The inner edge of a disk of gas and dust surrounding the black hole is heated by the disruption event and may glow long after the star is gone.\n",
      "--------------------------------------------------------------------------------\n",
      "Score: 0.7479558\n",
      "Title: Swirling Magnetic Field around Our Galaxy's Central Black Hole\n",
      "Explanation: Explanation: What's happening to the big black hole in the center of our galaxy? It is sucking in matter from a swirling disk -- a disk that is magnetized, it has now been confirmed. Specifically, the black hole's accretion disk has recently been seen to emit polarized light, radiation frequently associated with a magnetized source. Pictured here is a close-up of Sgr A*, our Galaxy's central black hole, taken by radio telescopes around the world participating in the Event Horizon Telescope (EHT) Collaboration. Superposed are illustrative curved lines indicating polarized light likely emitted from swirling magnetized gas that will soon fall into the 4+ million solar mass central black hole. The central part of this image is likely dark because little light-emitting gas is visible between us and the dark event horizon of the black hole. Continued EHT monitoring of this and M87's central black hole may yield new clues about the gravity of black holes and how infalling matter creates disks and jets.\n",
      "--------------------------------------------------------------------------------\n"
     ]
    }
   ],
   "source": [
    "for hit in result.body[\"hits\"][\"hits\"][:3]:\n",
    "    print(f\"Score: {hit['_score']}\")\n",
    "    print(f\"Title: {hit['_source']['title']}\")\n",
    "    print(f\"Explanation: {hit['_source']['explanation']}\")\n",
    "    print(\"-\" * 80)"
   ]
  }
 ],
 "metadata": {
  "kernelspec": {
   "display_name": "elastic_search",
   "language": "python",
   "name": "python3"
  },
  "language_info": {
   "codemirror_mode": {
    "name": "ipython",
    "version": 3
   },
   "file_extension": ".py",
   "mimetype": "text/x-python",
   "name": "python",
   "nbconvert_exporter": "python",
   "pygments_lexer": "ipython3",
   "version": "3.11.9"
  }
 },
 "nbformat": 4,
 "nbformat_minor": 5
}
