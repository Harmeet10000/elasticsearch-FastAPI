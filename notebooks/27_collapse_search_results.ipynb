{
 "cells": [
  {
   "cell_type": "markdown",
   "metadata": {},
   "source": [
    "## Documentation\n",
    "\n",
    "To read more about collapsing search results, visit the [docs](https://www.elastic.co/docs/reference/elasticsearch/rest-apis/collapse-search-results).\n",
    "\n",
    "![collapse_search_results](../images/collapse_search_results.png)"
   ]
  },
  {
   "cell_type": "markdown",
   "metadata": {},
   "source": [
    "## Connect to ElasticSearch"
   ]
  },
  {
   "cell_type": "code",
   "execution_count": 7,
   "metadata": {},
   "outputs": [
    {
     "name": "stdout",
     "output_type": "stream",
     "text": [
      "Connected to Elasticsearch!\n",
      "{'cluster_name': 'docker-cluster',\n",
      " 'cluster_uuid': 'DlYG5m9gR3upn7qgaYyAJA',\n",
      " 'name': 'df0334cb3063',\n",
      " 'tagline': 'You Know, for Search',\n",
      " 'version': {'build_date': '2024-08-05T10:05:34.233336849Z',\n",
      "             'build_flavor': 'default',\n",
      "             'build_hash': '1a77947f34deddb41af25e6f0ddb8e830159c179',\n",
      "             'build_snapshot': False,\n",
      "             'build_type': 'docker',\n",
      "             'lucene_version': '9.11.1',\n",
      "             'minimum_index_compatibility_version': '7.0.0',\n",
      "             'minimum_wire_compatibility_version': '7.17.0',\n",
      "             'number': '8.15.0'}}\n"
     ]
    }
   ],
   "source": [
    "from pprint import pprint\n",
    "from elasticsearch import Elasticsearch\n",
    "\n",
    "es = Elasticsearch(\"http://localhost:9200\")\n",
    "client_info = es.info()\n",
    "print(\"Connected to Elasticsearch!\")\n",
    "pprint(client_info.body)"
   ]
  },
  {
   "cell_type": "markdown",
   "metadata": {},
   "source": [
    "## Index documents"
   ]
  },
  {
   "cell_type": "markdown",
   "metadata": {},
   "source": [
    "Let's use the `APOD` dataset in this notebook."
   ]
  },
  {
   "cell_type": "code",
   "execution_count": 8,
   "metadata": {},
   "outputs": [],
   "source": [
    "import json\n",
    "\n",
    "with open(\"../data/apod.json\") as f:\n",
    "    documents = json.load(f)"
   ]
  },
  {
   "cell_type": "markdown",
   "metadata": {},
   "source": [
    "Create the `apod` index and index."
   ]
  },
  {
   "cell_type": "code",
   "execution_count": 9,
   "metadata": {},
   "outputs": [
    {
     "data": {
      "text/plain": [
       "ObjectApiResponse({'acknowledged': True, 'shards_acknowledged': True, 'index': 'apod'})"
      ]
     },
     "execution_count": 9,
     "metadata": {},
     "output_type": "execute_result"
    }
   ],
   "source": [
    "es.indices.delete(index=\"apod\", ignore_unavailable=True)\n",
    "es.indices.create(index=\"apod\")"
   ]
  },
  {
   "cell_type": "markdown",
   "metadata": {},
   "source": [
    "Use the `bulk` API to index the documents in the `apod` index."
   ]
  },
  {
   "cell_type": "code",
   "execution_count": 10,
   "metadata": {},
   "outputs": [
    {
     "name": "stderr",
     "output_type": "stream",
     "text": [
      "Indexing documents: 100%|██████████| 3333/3333 [00:00<00:00, 1067309.15it/s]\n"
     ]
    }
   ],
   "source": [
    "from tqdm import tqdm\n",
    "\n",
    "operations = []\n",
    "index_name = \"apod\"\n",
    "for document in tqdm(documents, total=len(documents), desc=\"Indexing documents\"):\n",
    "    year = document[\"date\"].split(\"-\")[0]\n",
    "    document[\"year\"] = int(year)\n",
    "\n",
    "    operations.append({\"index\": {\"_index\": index_name}})\n",
    "    operations.append(document)\n",
    "\n",
    "response = es.bulk(operations=operations)"
   ]
  },
  {
   "cell_type": "markdown",
   "metadata": {},
   "source": [
    "If the indexing is successful, you should see `response[\"errors\"]` as `False`."
   ]
  },
  {
   "cell_type": "code",
   "execution_count": 11,
   "metadata": {},
   "outputs": [
    {
     "data": {
      "text/plain": [
       "False"
      ]
     },
     "execution_count": 11,
     "metadata": {},
     "output_type": "execute_result"
    }
   ],
   "source": [
    "response[\"errors\"]"
   ]
  },
  {
   "cell_type": "markdown",
   "metadata": {},
   "source": [
    "## Collapse search results"
   ]
  },
  {
   "cell_type": "markdown",
   "metadata": {},
   "source": [
    "Without collapsing, the search results will return all documents that match the query."
   ]
  },
  {
   "cell_type": "code",
   "execution_count": 14,
   "metadata": {},
   "outputs": [
    {
     "name": "stdout",
     "output_type": "stream",
     "text": [
      "Total hits before collapsing: 270\n",
      "Total returned hits before collapsing: 270\n"
     ]
    }
   ],
   "source": [
    "response_no_collapsing = es.search(\n",
    "    index=\"apod\",\n",
    "    body={\n",
    "        \"query\": {\"match\": {\"title\": \"Andromeda galaxy\"}},\n",
    "        \"size\": 10_000,\n",
    "    },\n",
    ")\n",
    "total_hits = response_no_collapsing[\"hits\"][\"total\"][\"value\"]\n",
    "print(f\"Total hits before collapsing: {total_hits}\")\n",
    "total_returned_hits = len(response_no_collapsing[\"hits\"][\"hits\"])\n",
    "print(f\"Total returned hits before collapsing: {total_returned_hits}\")"
   ]
  },
  {
   "cell_type": "markdown",
   "metadata": {},
   "source": [
    "Let's look at the count of documents that matched the query per year in the `apod` index. We observe that we have a lot of documents per year. What would happen if we collapse the search results by year?"
   ]
  },
  {
   "cell_type": "code",
   "execution_count": 15,
   "metadata": {},
   "outputs": [
    {
     "name": "stdout",
     "output_type": "stream",
     "text": [
      "Hits per year count:\n",
      "{2015: 28,\n",
      " 2016: 29,\n",
      " 2017: 31,\n",
      " 2018: 19,\n",
      " 2019: 32,\n",
      " 2020: 25,\n",
      " 2021: 24,\n",
      " 2022: 30,\n",
      " 2023: 32,\n",
      " 2024: 20}\n"
     ]
    }
   ],
   "source": [
    "from elastic_transport import ObjectApiResponse\n",
    "\n",
    "\n",
    "def get_hits_per_year(response: ObjectApiResponse) -> dict:\n",
    "    hits_per_year_count = {}\n",
    "    for hit in response[\"hits\"][\"hits\"]:\n",
    "        year = hit[\"_source\"][\"year\"]\n",
    "        if year not in hits_per_year_count:\n",
    "            hits_per_year_count[year] = 0\n",
    "        hits_per_year_count[year] += 1\n",
    "    return hits_per_year_count\n",
    "\n",
    "\n",
    "print(\"Hits per year count:\")\n",
    "pprint(get_hits_per_year(response_no_collapsing))"
   ]
  },
  {
   "cell_type": "markdown",
   "metadata": {},
   "source": [
    "Collapsing search results by year will return only one document per year that matches the query. That returned document will be the one with the highest `_score` for that year."
   ]
  },
  {
   "cell_type": "code",
   "execution_count": 16,
   "metadata": {},
   "outputs": [
    {
     "name": "stdout",
     "output_type": "stream",
     "text": [
      "Total hits before collapsing: 270\n",
      "Total returned hits after collapsing: 10\n"
     ]
    }
   ],
   "source": [
    "response_collapsing = es.search(\n",
    "    index=\"apod\",\n",
    "    body={\n",
    "        \"query\": {\"match\": {\"title\": \"Andromeda galaxy\"}},\n",
    "        \"collapse\": {\"field\": \"year\"},\n",
    "        \"size\": 10_000,\n",
    "    },\n",
    ")\n",
    "total_hits = response_collapsing[\"hits\"][\"total\"][\"value\"]\n",
    "print(f\"Total hits before collapsing: {total_hits}\")\n",
    "total_returned_hits = len(response_collapsing[\"hits\"][\"hits\"])\n",
    "print(f\"Total returned hits after collapsing: {total_returned_hits}\")"
   ]
  },
  {
   "cell_type": "markdown",
   "metadata": {},
   "source": [
    "As you can see, now we have only one document per year that matches the query."
   ]
  },
  {
   "cell_type": "code",
   "execution_count": 17,
   "metadata": {},
   "outputs": [
    {
     "name": "stdout",
     "output_type": "stream",
     "text": [
      "Hits per year count:\n",
      "{2015: 1,\n",
      " 2016: 1,\n",
      " 2017: 1,\n",
      " 2018: 1,\n",
      " 2019: 1,\n",
      " 2020: 1,\n",
      " 2021: 1,\n",
      " 2022: 1,\n",
      " 2023: 1,\n",
      " 2024: 1}\n"
     ]
    }
   ],
   "source": [
    "print(\"Hits per year count:\")\n",
    "pprint(get_hits_per_year(response_collapsing))"
   ]
  },
  {
   "cell_type": "markdown",
   "metadata": {},
   "source": [
    "Let's verify if the document in year 2024 is the one with the highest `_score`.\n",
    "\n",
    "From the response with collapsing, we can see that the document in year 2024 has a `_score` of `7.789091`."
   ]
  },
  {
   "cell_type": "code",
   "execution_count": 18,
   "metadata": {},
   "outputs": [
    {
     "name": "stdout",
     "output_type": "stream",
     "text": [
      "Document with a score of 7.789091 for year 2024:\n",
      "{'authors': 'Subaru, Hubble, Mayall, R. Gendler, R. Croman\\n',\n",
      " 'date': '2024-09-08',\n",
      " 'explanation': 'Explanation: The most distant object easily visible to the '\n",
      "                'unaided eye is M31, the great Andromeda Galaxy. Even at some '\n",
      "                'two and a half million light-years distant, this immense '\n",
      "                'spiral galaxy -- spanning over 200,000 light years -- is '\n",
      "                'visible, although as a faint, nebulous cloud in the '\n",
      "                'constellation Andromeda. A bright yellow nucleus, dark '\n",
      "                'winding dust lanes, and expansive spiral arms dotted with '\n",
      "                'blue star clusters and red nebulae, are recorded in this '\n",
      "                'stunning telescopic image which combines data from orbiting '\n",
      "                'Hubble with ground-based images from Subaru and Mayall. In '\n",
      "                'only about 5 billion years, the Andromeda galaxy may be even '\n",
      "                'easier to see -- as it will likely span the entire night sky '\n",
      "                '-- just before it merges with, or passes right by, our Milky '\n",
      "                'Way Galaxy.',\n",
      " 'image_url': 'https://apod.nasa.gov/apod/image/2409/M31_HstSubaruGendler_960.jpg',\n",
      " 'title': 'M31: The Andromeda Galaxy',\n",
      " 'year': 2024}\n"
     ]
    }
   ],
   "source": [
    "for hit in response_collapsing[\"hits\"][\"hits\"]:\n",
    "    year = hit[\"_source\"][\"year\"]\n",
    "    if year == 2024:\n",
    "        score = hit[\"_score\"]\n",
    "        print(f\"Document with a score of {score} for year {year}:\")\n",
    "        pprint(hit[\"_source\"])\n",
    "        break"
   ]
  },
  {
   "cell_type": "markdown",
   "metadata": {},
   "source": [
    "And in the response without collapsing, we confirm that the first hits from 2024 has a `_score` of `7.789091`, which is the same as the one in the response with collapsing."
   ]
  },
  {
   "cell_type": "code",
   "execution_count": 19,
   "metadata": {},
   "outputs": [
    {
     "name": "stdout",
     "output_type": "stream",
     "text": [
      "Score 7.789091:\n",
      "{'authors': 'Subaru, Hubble, Mayall, R. Gendler, R. Croman\\n',\n",
      " 'date': '2024-09-08',\n",
      " 'explanation': 'Explanation: The most distant object easily visible to the '\n",
      "                'unaided eye is M31, the great Andromeda Galaxy. Even at some '\n",
      "                'two and a half million light-years distant, this immense '\n",
      "                'spiral galaxy -- spanning over 200,000 light years -- is '\n",
      "                'visible, although as a faint, nebulous cloud in the '\n",
      "                'constellation Andromeda. A bright yellow nucleus, dark '\n",
      "                'winding dust lanes, and expansive spiral arms dotted with '\n",
      "                'blue star clusters and red nebulae, are recorded in this '\n",
      "                'stunning telescopic image which combines data from orbiting '\n",
      "                'Hubble with ground-based images from Subaru and Mayall. In '\n",
      "                'only about 5 billion years, the Andromeda galaxy may be even '\n",
      "                'easier to see -- as it will likely span the entire night sky '\n",
      "                '-- just before it merges with, or passes right by, our Milky '\n",
      "                'Way Galaxy.',\n",
      " 'image_url': 'https://apod.nasa.gov/apod/image/2409/M31_HstSubaruGendler_960.jpg',\n",
      " 'title': 'M31: The Andromeda Galaxy',\n",
      " 'year': 2024}\n",
      "--------------------------------------------------\n",
      "Score 3.0710938:\n",
      "{'authors': 'Aman Chokshi\\n',\n",
      " 'date': '2024-07-14',\n",
      " 'explanation': 'Explanation: The galaxy was never in danger. For one thing, '\n",
      "                'the Triangulum galaxy (M33), pictured, is much bigger than '\n",
      "                'the tiny grain of rock at the head of the meteor. For '\n",
      "                'another, the galaxy is much farther away -- in this instance '\n",
      "                '3 million light years as opposed to only about 0.0003 light '\n",
      "                \"seconds. Even so, the meteor's path took it angularly below \"\n",
      "                \"the galaxy. Also the wind high in Earth's atmosphere blew the \"\n",
      "                \"meteor's glowing evaporative molecule train away from the \"\n",
      "                'galaxy, in angular projection. Still, the astrophotographer '\n",
      "                'was quite lucky to capture both a meteor and a galaxy in a '\n",
      "                'single exposure -- which was subsequently added to two other '\n",
      "                \"images of M33 to bring up the spiral galaxy's colors. At the \"\n",
      "                'end, the meteor was gone in a second, but the galaxy will '\n",
      "                'last billions of years.',\n",
      " 'image_url': 'https://apod.nasa.gov/apod/image/2407/M33Meteor_Chokshi_960.jpg',\n",
      " 'title': 'Meteor Misses Galaxy',\n",
      " 'year': 2024}\n",
      "--------------------------------------------------\n",
      "Score 2.792822:\n",
      "{'authors': 'John Hayes\\n',\n",
      " 'date': '2024-11-01',\n",
      " 'explanation': 'Explanation: Big, beautiful spiral galaxy NGC 6744 is nearly '\n",
      "                '175,000 light-years across, larger than our own Milky Way. It '\n",
      "                'lies some 30 million light-years distant in the southern '\n",
      "                'constellation Pavo but appears as only a faint smudge in the '\n",
      "                'eyepiece of a small telescope. We see the disk of the nearby '\n",
      "                'island universe tilted towards our line of sight in this '\n",
      "                'remarkably deep and detailed galaxy portrait, a telescopic '\n",
      "                'image that spans an area about the angular size of a full '\n",
      "                \"moon. In it, the giant galaxy's elongated yellowish core is \"\n",
      "                'dominated by the light from old, cool stars. Beyond the core, '\n",
      "                'grand spiral arms are filled with young blue star clusters '\n",
      "                'and speckled with pinkish star forming regions. An extended '\n",
      "                'arm sweeps past smaller satellite galaxy NGC 6744A at the '\n",
      "                \"upper left. NGC 6744's galactic companion is reminiscent of \"\n",
      "                \"the Milky Way's satellite galaxy the Large Magellanic Cloud.\",\n",
      " 'image_url': 'https://apod.nasa.gov/apod/image/2411/NGC6744_V2_8_sm1024.jpg',\n",
      " 'title': 'Spiral Galaxy NGC 6744',\n",
      " 'year': 2024}\n",
      "--------------------------------------------------\n",
      "Score 2.5607884:\n",
      "{'authors': 'Hubble Legacy Archive,ESA,NASA',\n",
      " 'date': '2024-07-15',\n",
      " 'explanation': 'Explanation: Why does this galaxy have such a long tail? In '\n",
      "                'this stunning vista, based on image data from the Hubble '\n",
      "                'Legacy Archive, distant galaxies form a dramatic backdrop for '\n",
      "                'disrupted spiral galaxy Arp 188, the Tadpole Galaxy. The '\n",
      "                'cosmic tadpole is a mere 420 million light-years distant '\n",
      "                'toward the northern constellation of the Dragon (Draco). Its '\n",
      "                'eye-catching tail is about 280 thousand light-years long and '\n",
      "                'features massive, bright blue star clusters. One story goes '\n",
      "                'that a more compact intruder galaxy crossed in front of Arp '\n",
      "                '188 - from right to left in this view - and was slung around '\n",
      "                'behind the Tadpole by their gravitational attraction. During '\n",
      "                'the close encounter, tidal forces drew out the spiral '\n",
      "                \"galaxy's stars, gas, and dust forming the spectacular tail. \"\n",
      "                'The intruder galaxy itself, estimated to lie about 300 '\n",
      "                'thousand light-years behind the Tadpole, can be seen through '\n",
      "                'foreground spiral arms at the upper right. Following its '\n",
      "                'terrestrial namesake, the Tadpole Galaxy will likely lose its '\n",
      "                \"tail as it grows older, the tail's star clusters forming \"\n",
      "                'smaller satellites of the large spiral galaxy.',\n",
      " 'image_url': 'https://apod.nasa.gov/apod/image/2407/TadpoleGalaxy_HubblePathak_960.jpg',\n",
      " 'title': 'The Tadpole Galaxy from Hubble',\n",
      " 'year': 2024}\n",
      "--------------------------------------------------\n",
      "Score 2.5607884:\n",
      "{'authors': 'Lóránd Fényes\\n',\n",
      " 'date': '2024-06-06',\n",
      " 'explanation': 'Explanation: Magnificent spiral galaxy NGC 4565 is viewed '\n",
      "                'edge-on from planet Earth. Also known as the Needle Galaxy '\n",
      "                'for its narrow profile, bright NGC 4565 is a stop on many '\n",
      "                'telescopic tours of the northern sky, in the faint but '\n",
      "                'well-groomed constellation Coma Berenices. This sharp, '\n",
      "                \"colorful image reveals the galaxy's boxy, bulging central \"\n",
      "                \"core cut by obscuring dust lanes that lace NGC 4565's thin \"\n",
      "                'galactic plane. NGC 4565 itself lies about 40 million '\n",
      "                'light-years distant and spans some 100,000 light-years. '\n",
      "                'Easily spotted with small telescopes, sky enthusiasts '\n",
      "                'consider NGC 4565 to be a prominent celestial masterpiece '\n",
      "                'Messier missed.',\n",
      " 'image_url': 'https://apod.nasa.gov/apod/image/2406/278_lorand_fenyes_ngc4565_1024.jpg',\n",
      " 'title': 'NGC 4565: Galaxy on Edge',\n",
      " 'year': 2024}\n",
      "--------------------------------------------------\n",
      "Score 2.5607884:\n",
      "{'authors': 'Markus Horn\\n',\n",
      " 'date': '2024-04-26',\n",
      " 'explanation': 'Explanation: In northern hemisphere spring, bright star '\n",
      "                'Regulus is easy to spot above the eastern horizon. The alpha '\n",
      "                'star of the constellation Leo, Regulus is the spiky star '\n",
      "                'centered in this telescopic field of view. A mere 79 '\n",
      "                'light-years distant, Regulus is a hot, rapidly spinning star '\n",
      "                'that is known to be part of a multiple star system. Not quite '\n",
      "                'lost in the glare, the fuzzy patch just below Regulus is '\n",
      "                'diffuse starlight from small galaxy Leo I. Leo I is a dwarf '\n",
      "                'spheroidal galaxy, a member of the Local Group of galaxies '\n",
      "                'dominated by our Milky Way Galaxy and the Andromeda Galaxy '\n",
      "                '(M31). About 800 thousand light-years away, Leo I is thought '\n",
      "                'to be the most distant of the known small satellite galaxies '\n",
      "                'orbiting the Milky Way. But dwarf galaxy Leo I has shown '\n",
      "                'evidence of a supermassive black hole at its center, '\n",
      "                'comparable in mass to the black hole at the center of the '\n",
      "                'Milky Way.',\n",
      " 'image_url': 'https://apod.nasa.gov/apod/image/2404/Regulus_Dwarf_by_Markus_Horn1024.png',\n",
      " 'title': 'Regulus and the Dwarf Galaxy',\n",
      " 'year': 2024}\n",
      "--------------------------------------------------\n",
      "Score 2.5607884:\n",
      "{'authors': 'NASA, ESA, Hubble, Ehsan Ebrahimian\\n',\n",
      " 'date': '2024-03-06',\n",
      " 'explanation': 'Explanation: What kind of celestial object is this? A '\n",
      "                'relatively normal galaxy -- but seen from its edge. Many disk '\n",
      "                'galaxies are actually just as thin as NGC 5866, the Spindle '\n",
      "                'galaxy, pictured here, but are not seen edge-on from our '\n",
      "                'vantage point. A perhaps more familiar galaxy seen edge-on is '\n",
      "                'our own Milky Way galaxy. Also cataloged as M102, the Spindle '\n",
      "                'galaxy has numerous and complex dust lanes appearing dark and '\n",
      "                'red, while many of the bright stars in the disk give it a '\n",
      "                'more blue underlying hue. The blue disk of young stars can be '\n",
      "                'seen in this Hubble image extending past the dust in the '\n",
      "                'extremely thin galactic plane. There is evidence that the '\n",
      "                'Spindle galaxy has cannibalized smaller galaxies over the '\n",
      "                'past billion years or so, including multiple streams of faint '\n",
      "                'stars, dark dust that extends away from the main galactic '\n",
      "                'plane, and a surrounding group of galaxies (not shown). In '\n",
      "                'general, many disk galaxies become thin because the gas that '\n",
      "                'forms them collides with itself as it rotates about the '\n",
      "                'gravitational center. The Spindle galaxy lies about 50 '\n",
      "                'million light years distant toward the constellation of the '\n",
      "                'Dragon (Draco).',\n",
      " 'image_url': 'https://apod.nasa.gov/apod/image/2403/M102_HubbleEbrahimian_960.jpg',\n",
      " 'title': 'M102: Edge on Disk Galaxy',\n",
      " 'year': 2024}\n",
      "--------------------------------------------------\n",
      "Score 2.5607884:\n",
      "{'authors': 'Ireneusz Nowak,Natalia Lewandowska\\n',\n",
      " 'date': '2024-10-02',\n",
      " 'explanation': 'Explanation: It is the largest satellite galaxy of our home '\n",
      "                'Milky Way Galaxy. If you live in the south, the Large '\n",
      "                'Magellanic Cloud (LMC) is quite noticeable, spanning about 10 '\n",
      "                'degrees across the night sky, which is 20 times larger than '\n",
      "                'the full moon towards the southern constellation of the '\n",
      "                'dolphinfish (Dorado). Being only about 160,000 light years '\n",
      "                \"away, many details of the LMC's structure can be seen, such \"\n",
      "                'as its central bar and its single spiral arm. The LMC harbors '\n",
      "                'numerous stellar nurseries where new stars are being born, '\n",
      "                'which appear in pink in the featured image. It is home to the '\n",
      "                'Tarantula Nebula, the currently most active star forming '\n",
      "                'region in the entire Local Group, a small collection of '\n",
      "                'nearby galaxies dominated by the massive Andromeda and Milky '\n",
      "                'Way galaxies. Studies of the LMC and the Small Magellanic '\n",
      "                'Cloud (SMC) by Henrietta Swan Leavitt led to the discovery of '\n",
      "                'the period-luminosity relationship of Cepheid variable stars '\n",
      "                'that are used to measure distances across the nearby '\n",
      "                'universe.',\n",
      " 'image_url': 'https://apod.nasa.gov/apod/image/2410/LMC_Nowak_1080.jpg',\n",
      " 'title': 'The Large Magellanic Cloud Galaxy',\n",
      " 'year': 2024}\n",
      "--------------------------------------------------\n",
      "Score 2.3643534:\n",
      "{'authors': 'CTIO, NOIRLab, DOE, NSF, AURA, T. A. Rector, D. de Martin, M. '\n",
      "            'Zamani\\n',\n",
      " 'date': '2024-05-21',\n",
      " 'explanation': \"Explanation: Can a gas cloud eat a galaxy? It's not even \"\n",
      "                'close. The \"claw\" of this odd looking \"creature\" in the '\n",
      "                'featured photo is a gas cloud known as a cometary globule. '\n",
      "                'This globule, however, has ruptured. Cometary globules are '\n",
      "                'typically characterized by dusty heads and elongated tails. '\n",
      "                'These features cause cometary globules to have visual '\n",
      "                'similarities to comets, but in reality they are very much '\n",
      "                'different. Globules are frequently the birthplaces of stars, '\n",
      "                'and many show very young stars in their heads. The reason for '\n",
      "                'the rupture in the head of this object is not yet known. The '\n",
      "                'galaxy to the left of the globule is huge, very far in the '\n",
      "                'distance, and only placed near CG4 by chance superposition.',\n",
      " 'image_url': 'https://apod.nasa.gov/apod/image/2405/Cg4Galaxy_CtioRector_960.jpg',\n",
      " 'title': 'CG4: The Globule and the Galaxy',\n",
      " 'year': 2024}\n",
      "--------------------------------------------------\n",
      "Score 2.3643534:\n",
      "{'authors': 'Drew Evans\\n',\n",
      " 'date': '2024-05-02',\n",
      " 'explanation': 'Explanation: Majestic on a truly cosmic scale, M100 is '\n",
      "                'appropriately known as a grand design spiral galaxy. The '\n",
      "                'large galaxy of over 100 billion stars has well-defined '\n",
      "                'spiral arms, similar to our own Milky Way. One of the '\n",
      "                'brightest members of the Virgo Cluster of galaxies, M100, '\n",
      "                'also known as NGC 4321 is 56 million light-years distant '\n",
      "                'toward the well-groomed constellation Coma Berenices. In this '\n",
      "                'telescopic image, the face-on grand design spiral shares a '\n",
      "                'nearly 1 degree wide field-of-view with slightly less '\n",
      "                'conspicuous edge-on spiral NGC 4312 (at upper right). The 21 '\n",
      "                'hour long equivalent exposure from a dark sky site near '\n",
      "                \"Flagstaff, Arizona, planet Earth, reveals M100's bright blue \"\n",
      "                'star clusters and intricate winding dust lanes which are '\n",
      "                'hallmarks of this class of galaxies. Measurements of variable '\n",
      "                'stars in M100 have played an important role in determining '\n",
      "                'the size and age of the Universe.',\n",
      " 'image_url': 'https://apod.nasa.gov/apod/image/2405/M100_DrewEvans1024.png',\n",
      " 'title': 'M100: A Grand Design Spiral Galaxy',\n",
      " 'year': 2024}\n",
      "--------------------------------------------------\n",
      "Score 2.3643534:\n",
      "{'authors': 'Mike Selby\\n',\n",
      " 'date': '2024-03-20',\n",
      " 'explanation': 'Explanation: Across the heart of the Virgo Galaxy Cluster '\n",
      "                \"lies a string of galaxies known as Markarian's Chain. \"\n",
      "                \"Prominent in Markarian's Chain are these two interacting \"\n",
      "                'galaxies, NGC 4438 (left) and NGC 4435 - also known as The '\n",
      "                'Eyes. About 50 million light-years away, the two galaxies '\n",
      "                'appear to be about 100,000 light-years apart in this sharp '\n",
      "                'close-up, but have likely approached to within an estimated '\n",
      "                '16,000 light-years of each other in their cosmic past. '\n",
      "                'Gravitational tides from the close encounter have ripped away '\n",
      "                'at their stars, gas, and dust. The more massive NGC 4438 '\n",
      "                'managed to hold on to much of the material torn out in the '\n",
      "                'collision, while material from the smaller NGC 4435 was more '\n",
      "                'easily lost. The remarkably deep image of this crowded region '\n",
      "                'of the universe also includes many more distant background '\n",
      "                'galaxies.',\n",
      " 'image_url': 'https://apod.nasa.gov/apod/image/2403/Ngc4438_Selby_960.jpg',\n",
      " 'title': \"The Eyes in Markarian's Galaxy Chain\",\n",
      " 'year': 2024}\n",
      "--------------------------------------------------\n",
      "Score 2.3643534:\n",
      "{'authors': 'NASA, ESA, Hubble Legacy Archive, Rudy Pohl\\n',\n",
      " 'date': '2024-03-17',\n",
      " 'explanation': 'Explanation: Is this galaxy jumping through a giant ring of '\n",
      "                'stars? Probably not. Although the precise dynamics behind the '\n",
      "                'featured image is yet unclear, what is clear is that the '\n",
      "                'pictured galaxy, NGC 7714, has been stretched and distorted '\n",
      "                'by a recent collision with a neighboring galaxy. This smaller '\n",
      "                'neighbor, NGC 7715, situated off to the left of the frame, is '\n",
      "                'thought to have charged right through NGC 7714. Observations '\n",
      "                'indicate that the golden ring pictured is composed of '\n",
      "                'millions of older Sun-like stars that are likely co-moving '\n",
      "                'with the interior bluer stars. In contrast, the bright center '\n",
      "                'of NGC 7714 appears to be undergoing a burst of new star '\n",
      "                'formation. The featured image was captured by the Hubble '\n",
      "                'Space Telescope. NGC 7714 is located about 130 million light '\n",
      "                'years away toward the constellation of the Two Fish (Pisces). '\n",
      "                'The interactions between these galaxies likely started about '\n",
      "                '150 million years ago and should continue for several hundred '\n",
      "                'million years more, after which a single central galaxy may '\n",
      "                'result.',\n",
      " 'image_url': 'https://apod.nasa.gov/apod/image/2403/Ngc7714_HubblePohl_1080.jpg',\n",
      " 'title': 'NGC 7714: Starburst after Galaxy Collision',\n",
      " 'year': 2024}\n",
      "--------------------------------------------------\n",
      "Score 2.3643534:\n",
      "{'authors': 'Seung Hye Yang\\n',\n",
      " 'date': '2024-03-12',\n",
      " 'explanation': \"Explanation: What's that over the horizon? What may look like \"\n",
      "                \"a strangely nearby galaxy is actually a normal rocket's \"\n",
      "                'exhaust plume -- but unusually backlit. Although the SpaceX '\n",
      "                'Falcon 9 rocket was launched from Vandenberg Space Force Base '\n",
      "                'in California, USA, its burned propellant was visible over a '\n",
      "                'much wider area, with the featured photograph being taken '\n",
      "                'from Akureyri, Iceland. The huge spaceship was lifted off a '\n",
      "                'week ago, and the resulting spectacle was captured soon '\n",
      "                'afterward with a single 10-second smartphone exposure, before '\n",
      "                \"it quickly dissipated. Like noctilucent clouds, the plume's \"\n",
      "                'brightness is caused by the Twilight Effect, where an object '\n",
      "                'is high enough to be illuminated by the twilight Sun, even '\n",
      "                'when the observer on the ground experiences the darkness of '\n",
      "                'night. The spiral shape is caused by the Falcon rocket '\n",
      "                'reorienting to release satellites in different directions. '\n",
      "                'Stars and faint green and red aurora appear in the background '\n",
      "                'of this extraordinary image.',\n",
      " 'image_url': 'https://apod.nasa.gov/apod/image/2403/RocketSpiral_Yang_960.jpg',\n",
      " 'title': 'A Galaxy Shaped Rocket Exhaust Spiral',\n",
      " 'year': 2024}\n",
      "--------------------------------------------------\n",
      "Score 2.1959078:\n",
      "{'authors': 'NASA, ESA, CSA, STScI, Alberto Bolatto',\n",
      " 'date': '2024-04-15',\n",
      " 'explanation': 'Explanation: Something strange happened to this galaxy, but '\n",
      "                'what? Known as the Cigar Galaxy and cataloged as M82, red '\n",
      "                'glowing gas and dust are being cast out from the center. '\n",
      "                'Although this starburst galaxy was surely stirred up by a '\n",
      "                'recent pass near its neighbor, large spiral galaxy M81, this '\n",
      "                \"doesn't fully explain the source of the red-glowing outwardly \"\n",
      "                'expanding gas and dust. Evidence indicates that this material '\n",
      "                'is being driven out by the combined emerging particle winds '\n",
      "                'of many stars, together creating a galactic superwind. In the '\n",
      "                'featured images, a Hubble Space Telescope image in visible '\n",
      "                'light is shown on the left, while a James Webb Space '\n",
      "                'Telescope image of the central region in infrared light is '\n",
      "                'shown on the right. Detailed inspection of the new Webb image '\n",
      "                'shows, unexpectedly, that this red-glowing dust is associated '\n",
      "                'with hot plasma. Research into the nature of this strange '\n",
      "                'nearby galaxy will surely continue.',\n",
      " 'image_url': 'https://apod.nasa.gov/apod/image/2404/M82Center_HubbleWebb_1080.jpg',\n",
      " 'title': 'The Cigar Galaxy from Hubble and Webb',\n",
      " 'year': 2024}\n",
      "--------------------------------------------------\n",
      "Score 2.1959078:\n",
      "{'authors': 'NASA, ESA, Hubble, Benoit Blanco\\n',\n",
      " 'date': '2024-02-18',\n",
      " 'explanation': 'Explanation: Is this one galaxy or two? This question came to '\n",
      "                'light in 1950 when astronomer Arthur Hoag chanced upon this '\n",
      "                'unusual extragalactic object. On the outside is a ring '\n",
      "                'dominated by bright blue stars, while near the center lies a '\n",
      "                'ball of much redder stars that are likely much older. Between '\n",
      "                'the two is a gap that appears almost completely dark. How '\n",
      "                \"Hoag's Object formed, including its nearly perfectly round \"\n",
      "                'ring of stars and gas, remains unknown. Genesis hypotheses '\n",
      "                'include a galaxy collision billions of years ago and the '\n",
      "                'gravitational effect of a central bar that has since '\n",
      "                'vanished. The featured photo was taken by the Hubble Space '\n",
      "                'Telescope and reprocessed using an artificially intelligent '\n",
      "                'de-noising algorithm. Observations in radio waves indicate '\n",
      "                \"that Hoag's Object has not accreted a smaller galaxy in the \"\n",
      "                \"past billion years. Hoag's Object spans about 100,000 light \"\n",
      "                'years and lies about 600 million light years away toward the '\n",
      "                'constellation of the Snake (Serpens). Many galaxies far in '\n",
      "                'the distance are visible toward the right, while '\n",
      "                \"coincidentally, visible in the gap at about seven o'clock, is \"\n",
      "                'another but more distant ring galaxy.',\n",
      " 'image_url': 'https://apod.nasa.gov/apod/image/2402/Hoag_HubbleBlanco_1080.jpg',\n",
      " 'title': 'Hoags Object: A Nearly Perfect Ring Galaxy',\n",
      " 'year': 2024}\n",
      "--------------------------------------------------\n",
      "Score 2.1959078:\n",
      "{'authors': 'FORS, 8.2-meter VLT Antu, ESO\\n',\n",
      " 'date': '2024-01-01',\n",
      " 'explanation': 'Explanation: Galaxies are fascinating not only for what is '\n",
      "                'visible, but for what is invisible. Grand spiral galaxy NGC '\n",
      "                '1232, captured in detail by one of the Very Large Telescopes, '\n",
      "                'is a good example. The visible is dominated by millions of '\n",
      "                'bright stars and dark dust, caught up in a gravitational '\n",
      "                'swirl of spiral arms revolving about the center. Open '\n",
      "                'clusters containing bright blue stars can be seen sprinkled '\n",
      "                'along these spiral arms, while dark lanes of dense '\n",
      "                'interstellar dust can be seen sprinkled between them. Less '\n",
      "                'visible, but detectable, are billions of dim normal stars and '\n",
      "                'vast tracts of interstellar gas, together wielding such high '\n",
      "                'mass that they dominate the dynamics of the inner galaxy. '\n",
      "                'Leading theories indicate that even greater amounts of matter '\n",
      "                \"are invisible, in a form we don't yet know. This pervasive \"\n",
      "                'dark matter is postulated, in part, to explain the motions of '\n",
      "                'the visible matter in the outer regions of galaxies.',\n",
      " 'image_url': 'https://apod.nasa.gov/apod/image/2401/ngc1232b_vlt_960.jpg',\n",
      " 'title': 'NGC 1232: A Grand Design Spiral Galaxy',\n",
      " 'year': 2024}\n",
      "--------------------------------------------------\n",
      "Score 2.1959078:\n",
      "{'authors': 'NASA, ESA, CSA, Janice Lee (NOIRLab), Alyssa Pagan (STScI)\\n',\n",
      " 'date': '2024-11-13',\n",
      " 'explanation': 'Explanation: A mere 56 million light-years distant toward the '\n",
      "                'southern constellation Fornax, NGC 1365 is an enormous barred '\n",
      "                \"spiral galaxy about 200,000 light-years in diameter. That's \"\n",
      "                'twice the size of our own barred spiral Milky Way. This sharp '\n",
      "                \"image from the James Webb Space Telescope's Mid-Infrared \"\n",
      "                'Instrument (MIRI) reveals stunning details of this '\n",
      "                \"magnificent spiral in infrared light. Webb's field of view \"\n",
      "                'stretches about 60,000 light-years across NGC 1365, exploring '\n",
      "                \"the galaxy's core and bright newborn star clusters. The \"\n",
      "                'intricate network of dusty filaments and bubbles is created '\n",
      "                \"by young stars along spiral arms winding from the galaxy's \"\n",
      "                'central bar. Astronomers suspect the gravity field of NGC '\n",
      "                \"1365's bar plays a crucial role in the galaxy's evolution, \"\n",
      "                'funneling gas and dust into a star-forming maelstrom and '\n",
      "                \"ultimately feeding material into the active galaxy's central, \"\n",
      "                'supermassive black hole.',\n",
      " 'image_url': 'https://apod.nasa.gov/apod/image/2411/JWSTMIRI_ngc1365_1024.png',\n",
      " 'title': 'Barred Spiral Galaxy NGC 1365 from Webb',\n",
      " 'year': 2024}\n",
      "--------------------------------------------------\n",
      "Score 2.0498676:\n",
      "{'authors': 'Ali Al Obaidly\\n',\n",
      " 'date': '2024-10-09',\n",
      " 'explanation': \"Explanation: What's happening at the center of spiral galaxy \"\n",
      "                \"M106? A swirling disk of stars and gas, M106's appearance is \"\n",
      "                'dominated by blue spiral arms and red dust lanes near the '\n",
      "                'nucleus, as shown in the featured image taken from the '\n",
      "                'Kuwaiti desert. The core of M106 glows brightly in radio '\n",
      "                'waves and X-rays where twin jets have been found running the '\n",
      "                'length of the galaxy. An unusual central glow makes M106 one '\n",
      "                'of the closest examples of the Seyfert class of galaxies, '\n",
      "                'where vast amounts of glowing gas are thought to be falling '\n",
      "                'into a central massive black hole. M106, also designated NGC '\n",
      "                '4258, is a relatively close 23.5 million light years away, '\n",
      "                'spans 60 thousand light years across, and can be seen with a '\n",
      "                'small telescope towards the constellation of the Hunting Dogs '\n",
      "                '(Canes Venatici).',\n",
      " 'image_url': 'https://apod.nasa.gov/apod/image/2410/M106_Obaidly_960.jpg',\n",
      " 'title': 'M106: A Spiral Galaxy with a Strange Center',\n",
      " 'year': 2024}\n",
      "--------------------------------------------------\n",
      "Score 1.9220409:\n",
      "{'authors': 'NASA,JPL-Caltech,Event Horizon Telescope Collaboration\\n',\n",
      " 'date': '2024-05-09',\n",
      " 'explanation': 'Explanation: Bright elliptical galaxy Messier 87 (M87) is '\n",
      "                'home to the supermassive black hole captured in 2017 by '\n",
      "                \"planet Earth's Event Horizon Telescope in the first ever \"\n",
      "                'image of a black hole. Giant of the Virgo galaxy cluster '\n",
      "                'about 55 million light-years away, M87 is rendered in blue '\n",
      "                'hues in this infrared image from the Spitzer Space telescope. '\n",
      "                'Though M87 appears mostly featureless and cloud-like, the '\n",
      "                'Spitzer image does record details of relativistic jets '\n",
      "                \"blasting from the galaxy's central region. Shown in the inset \"\n",
      "                'at top right, the jets themselves span thousands of '\n",
      "                'light-years. The brighter jet seen on the right is '\n",
      "                'approaching and close to our line of sight. Opposite, the '\n",
      "                'shock created by the otherwise unseen receding jet lights up '\n",
      "                'a fainter arc of material. Inset at bottom right, the '\n",
      "                'historic black hole image is shown in context at the center '\n",
      "                'of giant galaxy, between the relativistic jets. Completely '\n",
      "                'unresolved in the Spitzer image, the supermassive black hole '\n",
      "                'surrounded by infalling material is the source of enormous '\n",
      "                'energy driving the relativistic jets from the center of '\n",
      "                'active galaxy M87. The Event Horizon Telescope image of M87 '\n",
      "                'has been enhanced to reveal a sharper view of the famous '\n",
      "                'supermassive black hole.',\n",
      " 'image_url': 'https://apod.nasa.gov/apod/image/2405/pia23122c-16_1067.jpg',\n",
      " 'title': 'The Galaxy, the Jet, and a Famous Black Hole',\n",
      " 'year': 2024}\n",
      "--------------------------------------------------\n",
      "Score 1.9220409:\n",
      "{'authors': 'NASA, ESA, CSA, STScI, J. Lee, T. Williams, R. Chandar, D. '\n",
      "            'Calzetti, PHANGS Team\\n',\n",
      " 'date': '2024-02-06',\n",
      " 'explanation': \"Explanation: What's different about this galaxy? Very little, \"\n",
      "                'which makes the Spanish Dancer galaxy, NGC 1566, one of the '\n",
      "                'most typical and photogenic spirals on the sky. There is '\n",
      "                'something different about this galaxy image, though, because '\n",
      "                'it is a diagonal combination of two images: one by the Hubble '\n",
      "                'Space Telescope on the upper left, and the other by the James '\n",
      "                'Webb Space Telescope on the lower right. The Hubble image was '\n",
      "                'taken in ultraviolet light and highlights the locations of '\n",
      "                \"bright blue stars and dark dust along the galaxy's impressive \"\n",
      "                'spiral arms. In contrast, the Webb image was taken in '\n",
      "                'infrared light and highlights where the same dust emits more '\n",
      "                'light than it absorbed. In the rollover image, the other two '\n",
      "                'sides of these images are revealed. Blinking between the two '\n",
      "                'images shows which stars are particularly hot because they '\n",
      "                'glow brighter in ultraviolet light, and the difference '\n",
      "                'between seemingly empty space and infrared-glowing dust.',\n",
      " 'image_url': 'https://apod.nasa.gov/apod/image/2402/Ngc1566_HubbleWebb_960.jpg',\n",
      " 'title': 'NGC 1566: A Spiral Galaxy from Webb and Hubble',\n",
      " 'year': 2024}\n",
      "--------------------------------------------------\n"
     ]
    }
   ],
   "source": [
    "for hit in response_no_collapsing[\"hits\"][\"hits\"]:\n",
    "    year = hit[\"_source\"][\"year\"]\n",
    "    if year == 2024:\n",
    "        score = hit[\"_score\"]\n",
    "        print(f\"Score {score}:\")\n",
    "        pprint(hit[\"_source\"])\n",
    "        print(\"-\" * 50)"
   ]
  },
  {
   "cell_type": "markdown",
   "metadata": {},
   "source": [
    "## Expand collapsed results"
   ]
  },
  {
   "cell_type": "markdown",
   "metadata": {},
   "source": [
    "Expanding collapsed results allows you to retrieve more than one document per year that matches the query. Control how documents are sorted within each collapsed group and more."
   ]
  },
  {
   "cell_type": "code",
   "execution_count": 23,
   "metadata": {},
   "outputs": [
    {
     "name": "stdout",
     "output_type": "stream",
     "text": [
      "Total hits before collapsing: 270\n",
      "Total returned hits after collapsing: 10\n",
      "Total returned hits after expanding: 3\n"
     ]
    }
   ],
   "source": [
    "response_collapsing = es.search(\n",
    "    index=\"apod\",\n",
    "    body={\n",
    "        \"query\": {\"match\": {\"title\": \"Andromeda galaxy\"}},\n",
    "        \"collapse\": {\n",
    "            \"field\": \"year\",\n",
    "            \"inner_hits\": {\n",
    "                \"name\": \"most_recent\",\n",
    "                \"size\": 3,  # Number of documents to return per collapsed group\n",
    "            },\n",
    "        },\n",
    "        \"size\": 10_000,\n",
    "    },\n",
    ")\n",
    "total_hits = response_collapsing[\"hits\"][\"total\"][\"value\"]\n",
    "print(f\"Total hits before collapsing: {total_hits}\")\n",
    "total_returned_hits = len(response_collapsing[\"hits\"][\"hits\"])\n",
    "print(f\"Total returned hits after collapsing: {total_returned_hits}\")\n",
    "inner_hits = response_collapsing[\"hits\"][\"hits\"][0][\"inner_hits\"][\"most_recent\"]\n",
    "total_returned_hits_after_expanding = len(inner_hits[\"hits\"][\"hits\"])\n",
    "print(f\"Total returned hits after expanding: {total_returned_hits_after_expanding}\")"
   ]
  },
  {
   "cell_type": "markdown",
   "metadata": {},
   "source": [
    "After expanding the collapsed results, we can see that we have more than one document per year that matches the query."
   ]
  },
  {
   "cell_type": "code",
   "execution_count": 24,
   "metadata": {},
   "outputs": [
    {
     "name": "stdout",
     "output_type": "stream",
     "text": [
      "Hits per year count:\n",
      "{2024: 3}\n"
     ]
    }
   ],
   "source": [
    "print(\"Hits per year count:\")\n",
    "pprint(get_hits_per_year(inner_hits))"
   ]
  },
  {
   "cell_type": "markdown",
   "metadata": {},
   "source": [
    "The documents are sorted by `_score` within each collapsed group. They also match the scores in the response without collapsing."
   ]
  },
  {
   "cell_type": "code",
   "execution_count": 25,
   "metadata": {},
   "outputs": [
    {
     "name": "stdout",
     "output_type": "stream",
     "text": [
      "Score: 7.789091\n",
      "Score: 3.0710938\n",
      "Score: 2.792822\n"
     ]
    }
   ],
   "source": [
    "for hit in inner_hits[\"hits\"][\"hits\"]:\n",
    "    score = hit[\"_score\"]\n",
    "    print(f\"Score: {score}\")"
   ]
  },
  {
   "cell_type": "markdown",
   "metadata": {},
   "source": [
    "## Collapsing with search_after"
   ]
  },
  {
   "cell_type": "markdown",
   "metadata": {},
   "source": [
    "When collapsing on a field with a lot of unique values, you can use the `search_after` parameter to paginate through the results. This is useful when you want to retrieve all collapsed results without missing any.\n",
    "\n",
    "> Note: You can't use the `scroll` API with collapsing. Use `search_after` instead."
   ]
  },
  {
   "cell_type": "code",
   "execution_count": 26,
   "metadata": {},
   "outputs": [
    {
     "name": "stderr",
     "output_type": "stream",
     "text": [
      "Indexing documents: 100%|██████████| 40000/40000 [00:00<00:00, 1809508.07it/s]\n"
     ]
    },
    {
     "data": {
      "text/plain": [
       "False"
      ]
     },
     "execution_count": 26,
     "metadata": {},
     "output_type": "execute_result"
    }
   ],
   "source": [
    "documents = []\n",
    "number_of_unique_user_ids = 20_000\n",
    "for user_id in range(number_of_unique_user_ids):\n",
    "    for i in range(2):\n",
    "        documents.append(\n",
    "            {\n",
    "                \"user_id\": user_id,\n",
    "                \"title\": f\"Document {i} for user {user_id}\",\n",
    "                \"content\": f\"This is the content of document {i} for user {user_id}.\",\n",
    "            }\n",
    "        )\n",
    "\n",
    "es.indices.delete(index=\"my_index\", ignore_unavailable=True)\n",
    "es.indices.create(index=\"my_index\")\n",
    "\n",
    "operations = []\n",
    "for document in tqdm(documents, total=len(documents), desc=\"Indexing documents\"):\n",
    "    operations.append({\"index\": {\"_index\": \"my_index\"}})\n",
    "    operations.append(document)\n",
    "\n",
    "response = es.bulk(operations=operations)\n",
    "response[\"errors\"]"
   ]
  },
  {
   "cell_type": "markdown",
   "metadata": {},
   "source": [
    "We indexed 40000 documents, now we are ready to use `search_after` to paginate through the collapsed results. Since we have 2 documents per user, we can expect to have 20000 collapsed results."
   ]
  },
  {
   "cell_type": "code",
   "execution_count": 28,
   "metadata": {},
   "outputs": [
    {
     "name": "stdout",
     "output_type": "stream",
     "text": [
      "Total documents indexed: 40000\n"
     ]
    }
   ],
   "source": [
    "document_count = es.count(index=\"my_index\")\n",
    "print(f\"Total documents indexed: {document_count['count']}\")"
   ]
  },
  {
   "cell_type": "markdown",
   "metadata": {},
   "source": [
    "And we can see that the last user ID in the collapsed results is `19999` and the number of collapsed hits is `20000`, which is what we expected."
   ]
  },
  {
   "cell_type": "code",
   "execution_count": 29,
   "metadata": {},
   "outputs": [
    {
     "name": "stdout",
     "output_type": "stream",
     "text": [
      "Last user ID: 9999\n",
      "Last user ID: 19999\n",
      "Total collapsed hits: 20000\n"
     ]
    }
   ],
   "source": [
    "collapsed_hits = []\n",
    "search_after = None\n",
    "\n",
    "while True:\n",
    "    body = {\n",
    "        \"query\": {\"match\": {\"content\": \"document\"}},\n",
    "        \"collapse\": {\"field\": \"user_id\"},\n",
    "        \"sort\": [\"user_id\"],\n",
    "        \"size\": 10_000,\n",
    "    }\n",
    "\n",
    "    if search_after is not None:\n",
    "        body[\"search_after\"] = [search_after]\n",
    "\n",
    "    response_collapsing = es.search(index=\"my_index\", body=body)\n",
    "    hits = response_collapsing[\"hits\"][\"hits\"]\n",
    "\n",
    "    if not hits:\n",
    "        break\n",
    "\n",
    "    search_after = hits[-1][\"_source\"][\"user_id\"]\n",
    "    print(f\"Last user ID: {search_after}\")\n",
    "\n",
    "    collapsed_hits.extend(hits)\n",
    "\n",
    "print(f\"Total collapsed hits: {len(collapsed_hits)}\")"
   ]
  }
 ],
 "metadata": {
  "kernelspec": {
   "display_name": "elastic_search",
   "language": "python",
   "name": "python3"
  },
  "language_info": {
   "codemirror_mode": {
    "name": "ipython",
    "version": 3
   },
   "file_extension": ".py",
   "mimetype": "text/x-python",
   "name": "python",
   "nbconvert_exporter": "python",
   "pygments_lexer": "ipython3",
   "version": "3.11.9"
  }
 },
 "nbformat": 4,
 "nbformat_minor": 2
}
